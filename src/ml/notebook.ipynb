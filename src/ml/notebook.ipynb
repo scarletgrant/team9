{
 "cells": [
  {
   "cell_type": "code",
   "execution_count": 49,
   "metadata": {
    "ExecuteTime": {
     "end_time": "2019-04-11T00:22:15.797727Z",
     "start_time": "2019-04-11T00:22:15.794162Z"
    }
   },
   "outputs": [],
   "source": [
    "import numpy as np\n",
    "import pandas as pd\n",
    "import matplotlib.pyplot as plt"
   ]
  },
  {
   "cell_type": "code",
   "execution_count": 50,
   "metadata": {
    "ExecuteTime": {
     "end_time": "2019-04-11T00:22:15.811810Z",
     "start_time": "2019-04-11T00:22:15.802912Z"
    }
   },
   "outputs": [],
   "source": [
    "dataset = pd.read_csv('Salary_Data.csv')\n",
    "X = dataset.iloc[:, :-1].values\n",
    "Y = dataset.iloc[:, 1].values"
   ]
  },
  {
   "cell_type": "code",
   "execution_count": 51,
   "metadata": {},
   "outputs": [],
   "source": [
    "from sklearn.model_selection import train_test_split"
   ]
  },
  {
   "cell_type": "code",
   "execution_count": 52,
   "metadata": {},
   "outputs": [],
   "source": [
    "X_train, X_test, Y_train, Y_test = train_test_split(X, Y, test_size=1/3, random_state=0)\n"
   ]
  },
  {
   "cell_type": "code",
   "execution_count": 53,
   "metadata": {},
   "outputs": [],
   "source": [
    "from sklearn.linear_model import LinearRegression"
   ]
  },
  {
   "cell_type": "code",
   "execution_count": 54,
   "metadata": {},
   "outputs": [
    {
     "data": {
      "text/plain": [
       "LinearRegression(copy_X=True, fit_intercept=True, n_jobs=None,\n",
       "         normalize=False)"
      ]
     },
     "execution_count": 54,
     "metadata": {},
     "output_type": "execute_result"
    }
   ],
   "source": [
    "reg = LinearRegression()\n",
    "reg.fit(X_train, Y_train)"
   ]
  },
  {
   "cell_type": "code",
   "execution_count": 55,
   "metadata": {},
   "outputs": [],
   "source": [
    "y_pred = reg.predict(X_test)"
   ]
  },
  {
   "cell_type": "code",
   "execution_count": 56,
   "metadata": {},
   "outputs": [],
   "source": [
    "from aiohttp import web\n",
    "from aiohttp import ClientSession\n",
    "from json import dumps\n",
    "from json import loads\n",
    "from sklearn.model_selection import train_test_split\n",
    "from sklearn.linear_model import LinearRegression"
   ]
  },
  {
   "cell_type": "code",
   "execution_count": 71,
   "metadata": {},
   "outputs": [],
   "source": [
    "query_data = {\n",
    "            \"selector\": {\n",
    "                \"number\": 112\n",
    "            }\n",
    "        }\n",
    "\n",
    "headers = {\n",
    "    'Content-Type': 'application/json'\n",
    "}"
   ]
  },
  {
   "cell_type": "code",
   "execution_count": 72,
   "metadata": {},
   "outputs": [],
   "source": [
    "async with ClientSession() as session:\n",
    "    async with session.post('http://localhost:5984/station/_find', headers=headers, data=dumps(query_data)) as res:\n",
    "        data = await res.text()\n",
    "        data = loads(data)\n",
    "        dataset = pd.DataFrame.from_records(data['docs'])\n",
    "        \n",
    "        X = dataset.iloc[:, 4:6].values\n",
    "        Y = dataset.iloc[:, 2].values\n",
    "        \n",
    "        \n",
    "        X_train, X_test, Y_train, Y_test = train_test_split(X, Y, test_size=1/4, random_state=0)\n",
    "        \n",
    "        \n",
    "        reg = LinearRegression()\n",
    "        reg.fit(X_train, Y_train)\n",
    "        \n",
    "        y_pred = reg.predict(X_test)\n",
    "        \n",
    "        "
   ]
  },
  {
   "cell_type": "code",
   "execution_count": 62,
   "metadata": {},
   "outputs": [],
   "source": [
    "from aiohttp import ClientSession"
   ]
  },
  {
   "cell_type": "code",
   "execution_count": 64,
   "metadata": {},
   "outputs": [],
   "source": [
    "params = {\n",
    "    'country': 'ie'\n",
    "}"
   ]
  },
  {
   "cell_type": "code",
   "execution_count": 66,
   "metadata": {},
   "outputs": [
    {
     "name": "stdout",
     "output_type": "stream",
     "text": [
      "{'type': 'FeatureCollection', 'features': [{'type': 'feature', 'geometry': {'type': 'Point', 'coordinates': [53.349562, -6.278198]}, 'properties': {'number': 42, 'banking': True, 'bonus': False, 'bike_stands': 30, 'available_bike_stands': 6, 'available_bikes': 24, 'status': 'OPEN', 'last_update': 1555279677000}}, {'type': 'feature', 'geometry': {'type': 'Point', 'coordinates': [53.353462, -6.265305]}, 'properties': {'number': 30, 'banking': True, 'bonus': False, 'bike_stands': 20, 'available_bike_stands': 19, 'available_bikes': 1, 'status': 'OPEN', 'last_update': 1555279740000}}, {'type': 'feature', 'geometry': {'type': 'Point', 'coordinates': [53.336021, -6.26298]}, 'properties': {'number': 54, 'banking': False, 'bonus': False, 'bike_stands': 33, 'available_bike_stands': 4, 'available_bikes': 29, 'status': 'OPEN', 'last_update': 1555279539000}}, {'type': 'feature', 'geometry': {'type': 'Point', 'coordinates': [53.359405, -6.276142]}, 'properties': {'number': 108, 'banking': False, 'bonus': False, 'bike_stands': 40, 'available_bike_stands': 12, 'available_bikes': 28, 'status': 'OPEN', 'last_update': 1555279523000}}, {'type': 'feature', 'geometry': {'type': 'Point', 'coordinates': [53.33796, -6.24153]}, 'properties': {'number': 56, 'banking': False, 'bonus': False, 'bike_stands': 40, 'available_bike_stands': 33, 'available_bikes': 7, 'status': 'OPEN', 'last_update': 1555279669000}}, {'type': 'feature', 'geometry': {'type': 'Point', 'coordinates': [53.343368, -6.27012]}, 'properties': {'number': 6, 'banking': False, 'bonus': False, 'bike_stands': 20, 'available_bike_stands': 14, 'available_bikes': 6, 'status': 'OPEN', 'last_update': 1555280097000}}, {'type': 'feature', 'geometry': {'type': 'Point', 'coordinates': [53.334123, -6.265436]}, 'properties': {'number': 18, 'banking': True, 'bonus': False, 'bike_stands': 30, 'available_bike_stands': 13, 'available_bikes': 17, 'status': 'OPEN', 'last_update': 1555279855000}}, {'type': 'feature', 'geometry': {'type': 'Point', 'coordinates': [53.344304, -6.250427]}, 'properties': {'number': 32, 'banking': True, 'bonus': False, 'bike_stands': 30, 'available_bike_stands': 27, 'available_bikes': 3, 'status': 'OPEN', 'last_update': 1555280101000}}, {'type': 'feature', 'geometry': {'type': 'Point', 'coordinates': [53.338755, -6.262003]}, 'properties': {'number': 52, 'banking': False, 'bonus': False, 'bike_stands': 32, 'available_bike_stands': 23, 'available_bikes': 9, 'status': 'OPEN', 'last_update': 1555279898000}}, {'type': 'feature', 'geometry': {'type': 'Point', 'coordinates': [53.347777, -6.244239]}, 'properties': {'number': 48, 'banking': False, 'bonus': False, 'bike_stands': 40, 'available_bike_stands': 34, 'available_bikes': 6, 'status': 'OPEN', 'last_update': 1555279928000}}, {'type': 'feature', 'geometry': {'type': 'Point', 'coordinates': [53.336074, -6.252825]}, 'properties': {'number': 13, 'banking': False, 'bonus': False, 'bike_stands': 30, 'available_bike_stands': 16, 'available_bikes': 14, 'status': 'OPEN', 'last_update': 1555279722000}}, {'type': 'feature', 'geometry': {'type': 'Point', 'coordinates': [53.330091, -6.268044]}, 'properties': {'number': 43, 'banking': True, 'bonus': False, 'bike_stands': 30, 'available_bike_stands': 1, 'available_bikes': 29, 'status': 'OPEN', 'last_update': 1555279843000}}, {'type': 'feature', 'geometry': {'type': 'Point', 'coordinates': [53.339983, -6.295594]}, 'properties': {'number': 81, 'banking': False, 'bonus': False, 'bike_stands': 40, 'available_bike_stands': 23, 'available_bikes': 17, 'status': 'OPEN', 'last_update': 1555279818000}}, {'type': 'feature', 'geometry': {'type': 'Point', 'coordinates': [53.350929, -6.265125]}, 'properties': {'number': 31, 'banking': False, 'bonus': False, 'bike_stands': 20, 'available_bike_stands': 18, 'available_bikes': 2, 'status': 'OPEN', 'last_update': 1555280072000}}, {'type': 'feature', 'geometry': {'type': 'Point', 'coordinates': [53.341515, -6.256853]}, 'properties': {'number': 98, 'banking': True, 'bonus': False, 'bike_stands': 40, 'available_bike_stands': 18, 'available_bikes': 22, 'status': 'OPEN', 'last_update': 1555279900000}}, {'type': 'feature', 'geometry': {'type': 'Point', 'coordinates': [53.344603, -6.263371]}, 'properties': {'number': 14, 'banking': False, 'bonus': False, 'bike_stands': 30, 'available_bike_stands': 23, 'available_bikes': 7, 'status': 'OPEN', 'last_update': 1555280023000}}, {'type': 'feature', 'geometry': {'type': 'Point', 'coordinates': [53.348279, -6.254662]}, 'properties': {'number': 23, 'banking': True, 'bonus': False, 'bike_stands': 30, 'available_bike_stands': 29, 'available_bikes': 1, 'status': 'OPEN', 'last_update': 1555279989000}}, {'type': 'feature', 'geometry': {'type': 'Point', 'coordinates': [53.35893, -6.280337]}, 'properties': {'number': 106, 'banking': False, 'bonus': False, 'bike_stands': 40, 'available_bike_stands': 35, 'available_bikes': 5, 'status': 'OPEN', 'last_update': 1555279679000}}, {'type': 'feature', 'geometry': {'type': 'Point', 'coordinates': [53.357841, -6.251557]}, 'properties': {'number': 112, 'banking': False, 'bonus': False, 'bike_stands': 30, 'available_bike_stands': 14, 'available_bikes': 16, 'status': 'OPEN', 'last_update': 1555279755000}}, {'type': 'feature', 'geometry': {'type': 'Point', 'coordinates': [53.344115, -6.237153]}, 'properties': {'number': 68, 'banking': True, 'bonus': False, 'bike_stands': 40, 'available_bike_stands': 39, 'available_bikes': 1, 'status': 'OPEN', 'last_update': 1555279702000}}, {'type': 'feature', 'geometry': {'type': 'Point', 'coordinates': [53.343893, -6.280531]}, 'properties': {'number': 74, 'banking': False, 'bonus': False, 'bike_stands': 30, 'available_bike_stands': 14, 'available_bikes': 16, 'status': 'OPEN', 'last_update': 1555279636000}}, {'type': 'feature', 'geometry': {'type': 'Point', 'coordinates': [53.347477, -6.28525]}, 'properties': {'number': 87, 'banking': True, 'bonus': False, 'bike_stands': 38, 'available_bike_stands': 23, 'available_bikes': 15, 'status': 'OPEN', 'last_update': 1555279819000}}, {'type': 'feature', 'geometry': {'type': 'Point', 'coordinates': [53.339005, -6.300217]}, 'properties': {'number': 84, 'banking': False, 'bonus': False, 'bike_stands': 30, 'available_bike_stands': 17, 'available_bikes': 13, 'status': 'OPEN', 'last_update': 1555279664000}}, {'type': 'feature', 'geometry': {'type': 'Point', 'coordinates': [53.344153, -6.233451]}, 'properties': {'number': 90, 'banking': False, 'bonus': False, 'bike_stands': 40, 'available_bike_stands': 38, 'available_bikes': 2, 'status': 'OPEN', 'last_update': 1555279633000}}, {'type': 'feature', 'geometry': {'type': 'Point', 'coordinates': [53.334019, -6.258371]}, 'properties': {'number': 11, 'banking': False, 'bonus': False, 'bike_stands': 30, 'available_bike_stands': 30, 'available_bikes': 0, 'status': 'OPEN', 'last_update': 1555279803000}}, {'type': 'feature', 'geometry': {'type': 'Point', 'coordinates': [53.340803, -6.267732]}, 'properties': {'number': 17, 'banking': False, 'bonus': False, 'bike_stands': 20, 'available_bike_stands': 3, 'available_bikes': 17, 'status': 'OPEN', 'last_update': 1555279618000}}, {'type': 'feature', 'geometry': {'type': 'Point', 'coordinates': [53.351464, -6.255265]}, 'properties': {'number': 45, 'banking': False, 'bonus': False, 'bike_stands': 30, 'available_bike_stands': 19, 'available_bikes': 11, 'status': 'OPEN', 'last_update': 1555279893000}}, {'type': 'feature', 'geometry': {'type': 'Point', 'coordinates': [53.333653, -6.248345]}, 'properties': {'number': 114, 'banking': True, 'bonus': False, 'bike_stands': 40, 'available_bike_stands': 33, 'available_bikes': 7, 'status': 'OPEN', 'last_update': 1555279674000}}, {'type': 'feature', 'geometry': {'type': 'Point', 'coordinates': [53.343105, -6.277167]}, 'properties': {'number': 72, 'banking': False, 'bonus': False, 'bike_stands': 31, 'available_bike_stands': 24, 'available_bikes': 6, 'status': 'OPEN', 'last_update': 1555279999000}}, {'type': 'feature', 'geometry': {'type': 'Point', 'coordinates': [53.341428, -6.24672]}, 'properties': {'number': 63, 'banking': False, 'bonus': False, 'bike_stands': 35, 'available_bike_stands': 25, 'available_bikes': 9, 'status': 'OPEN', 'last_update': 1555279775000}}, {'type': 'feature', 'geometry': {'type': 'Point', 'coordinates': [53.338614, -6.248606]}, 'properties': {'number': 113, 'banking': True, 'bonus': False, 'bike_stands': 40, 'available_bike_stands': 39, 'available_bikes': 1, 'status': 'OPEN', 'last_update': 1555280038000}}, {'type': 'feature', 'geometry': {'type': 'Point', 'coordinates': [53.341833, -6.231291]}, 'properties': {'number': 91, 'banking': False, 'bonus': False, 'bike_stands': 30, 'available_bike_stands': 5, 'available_bikes': 25, 'status': 'OPEN', 'last_update': 1555279726000}}, {'type': 'feature', 'geometry': {'type': 'Point', 'coordinates': [53.346637, -6.246154]}, 'properties': {'number': 99, 'banking': False, 'bonus': False, 'bike_stands': 30, 'available_bike_stands': 30, 'available_bikes': 0, 'status': 'OPEN', 'last_update': 1555279744000}}, {'type': 'feature', 'geometry': {'type': 'Point', 'coordinates': [53.343034, -6.263578]}, 'properties': {'number': 9, 'banking': False, 'bonus': False, 'bike_stands': 24, 'available_bike_stands': 19, 'available_bikes': 5, 'status': 'OPEN', 'last_update': 1555279756000}}, {'type': 'feature', 'geometry': {'type': 'Point', 'coordinates': [53.346867, -6.230852]}, 'properties': {'number': 67, 'banking': False, 'bonus': False, 'bike_stands': 40, 'available_bike_stands': 32, 'available_bikes': 8, 'status': 'OPEN', 'last_update': 1555279978000}}, {'type': 'feature', 'geometry': {'type': 'Point', 'coordinates': [53.33403, -6.260714]}, 'properties': {'number': 55, 'banking': False, 'bonus': False, 'bike_stands': 36, 'available_bike_stands': 35, 'available_bikes': 1, 'status': 'OPEN', 'last_update': 1555279800000}}, {'type': 'feature', 'geometry': {'type': 'Point', 'coordinates': [53.346026, -6.243576]}, 'properties': {'number': 62, 'banking': False, 'bonus': False, 'bike_stands': 40, 'available_bike_stands': 40, 'available_bikes': 0, 'status': 'OPEN', 'last_update': 1555279903000}}, {'type': 'feature', 'geometry': {'type': 'Point', 'coordinates': [53.330662, -6.260177]}, 'properties': {'number': 5, 'banking': False, 'bonus': False, 'bike_stands': 40, 'available_bike_stands': 34, 'available_bikes': 6, 'status': 'OPEN', 'last_update': 1555279632000}}, {'type': 'feature', 'geometry': {'type': 'Point', 'coordinates': [53.342113, -6.310015]}, 'properties': {'number': 97, 'banking': True, 'bonus': False, 'bike_stands': 40, 'available_bike_stands': 9, 'available_bikes': 31, 'status': 'OPEN', 'last_update': 1555279695000}}, {'type': 'feature', 'geometry': {'type': 'Point', 'coordinates': [53.357043, -6.263232]}, 'properties': {'number': 61, 'banking': True, 'bonus': False, 'bike_stands': 25, 'available_bike_stands': 15, 'available_bikes': 10, 'status': 'OPEN', 'last_update': 1555279874000}}, {'type': 'feature', 'geometry': {'type': 'Point', 'coordinates': [53.348875, -6.267459]}, 'properties': {'number': 77, 'banking': False, 'bonus': False, 'bike_stands': 29, 'available_bike_stands': 5, 'available_bikes': 24, 'status': 'OPEN', 'last_update': 1555279898000}}, {'type': 'feature', 'geometry': {'type': 'Point', 'coordinates': [53.342081, -6.275233]}, 'properties': {'number': 73, 'banking': False, 'bonus': False, 'bike_stands': 30, 'available_bike_stands': 24, 'available_bikes': 6, 'status': 'OPEN', 'last_update': 1555279715000}}, {'type': 'feature', 'geometry': {'type': 'Point', 'coordinates': [53.346874, -6.272976]}, 'properties': {'number': 4, 'banking': False, 'bonus': False, 'bike_stands': 20, 'available_bike_stands': 0, 'available_bikes': 20, 'status': 'OPEN', 'last_update': 1555279928000}}, {'type': 'feature', 'geometry': {'type': 'Point', 'coordinates': [53.347932, -6.240928]}, 'properties': {'number': 49, 'banking': False, 'bonus': False, 'bike_stands': 40, 'available_bike_stands': 38, 'available_bikes': 2, 'status': 'OPEN', 'last_update': 1555279604000}}, {'type': 'feature', 'geometry': {'type': 'Point', 'coordinates': [53.334432, -6.245575]}, 'properties': {'number': 19, 'banking': False, 'bonus': False, 'bike_stands': 30, 'available_bike_stands': 18, 'available_bikes': 12, 'status': 'OPEN', 'last_update': 1555279702000}}, {'type': 'feature', 'geometry': {'type': 'Point', 'coordinates': [53.343565, -6.275071]}, 'properties': {'number': 7, 'banking': True, 'bonus': False, 'bike_stands': 29, 'available_bike_stands': 28, 'available_bikes': 1, 'status': 'OPEN', 'last_update': 1555279524000}}, {'type': 'feature', 'geometry': {'type': 'Point', 'coordinates': [53.359624, -6.260348]}, 'properties': {'number': 60, 'banking': False, 'bonus': False, 'bike_stands': 30, 'available_bike_stands': 0, 'available_bikes': 30, 'status': 'OPEN', 'last_update': 1555280002000}}, {'type': 'feature', 'geometry': {'type': 'Point', 'coordinates': [53.354929, -6.269425]}, 'properties': {'number': 102, 'banking': False, 'bonus': False, 'bike_stands': 40, 'available_bike_stands': 39, 'available_bikes': 1, 'status': 'OPEN', 'last_update': 1555279948000}}, {'type': 'feature', 'geometry': {'type': 'Point', 'coordinates': [53.350974, -6.25294]}, 'properties': {'number': 38, 'banking': False, 'bonus': False, 'bike_stands': 40, 'available_bike_stands': 26, 'available_bikes': 14, 'status': 'OPEN', 'last_update': 1555279804000}}, {'type': 'feature', 'geometry': {'type': 'Point', 'coordinates': [53.337132, -6.26059]}, 'properties': {'number': 53, 'banking': False, 'bonus': False, 'bike_stands': 40, 'available_bike_stands': 40, 'available_bikes': 0, 'status': 'OPEN', 'last_update': 1555279575000}}, {'type': 'feature', 'geometry': {'type': 'Point', 'coordinates': [53.339218, -6.240642]}, 'properties': {'number': 58, 'banking': True, 'bonus': False, 'bike_stands': 40, 'available_bike_stands': 24, 'available_bikes': 16, 'status': 'OPEN', 'last_update': 1555279833000}}, {'type': 'feature', 'geometry': {'type': 'Point', 'coordinates': [53.347122, -6.234749]}, 'properties': {'number': 66, 'banking': False, 'bonus': False, 'bike_stands': 40, 'available_bike_stands': 24, 'available_bikes': 16, 'status': 'OPEN', 'last_update': 1555279898000}}, {'type': 'feature', 'geometry': {'type': 'Point', 'coordinates': [53.355173, -6.278424]}, 'properties': {'number': 104, 'banking': True, 'bonus': False, 'bike_stands': 40, 'available_bike_stands': 36, 'available_bikes': 4, 'status': 'OPEN', 'last_update': 1555280049000}}, {'type': 'feature', 'geometry': {'type': 'Point', 'coordinates': [53.350291, -6.273507]}, 'properties': {'number': 101, 'banking': False, 'bonus': False, 'bike_stands': 30, 'available_bike_stands': 5, 'available_bikes': 25, 'status': 'OPEN', 'last_update': 1555279719000}}, {'type': 'feature', 'geometry': {'type': 'Point', 'coordinates': [53.354845, -6.247579]}, 'properties': {'number': 115, 'banking': False, 'bonus': False, 'bike_stands': 30, 'available_bike_stands': 2, 'available_bikes': 28, 'status': 'OPEN', 'last_update': 1555279869000}}, {'type': 'feature', 'geometry': {'type': 'Point', 'coordinates': [53.335742, -6.24551]}, 'properties': {'number': 47, 'banking': False, 'bonus': False, 'bike_stands': 40, 'available_bike_stands': 38, 'available_bikes': 2, 'status': 'OPEN', 'last_update': 1555279986000}}, {'type': 'feature', 'geometry': {'type': 'Point', 'coordinates': [53.347884, -6.248048]}, 'properties': {'number': 8, 'banking': False, 'bonus': False, 'bike_stands': 30, 'available_bike_stands': 28, 'available_bikes': 2, 'status': 'OPEN', 'last_update': 1555280015000}}, {'type': 'feature', 'geometry': {'type': 'Point', 'coordinates': [53.341288, -6.258117]}, 'properties': {'number': 27, 'banking': False, 'bonus': False, 'bike_stands': 20, 'available_bike_stands': 20, 'available_bikes': 0, 'status': 'OPEN', 'last_update': 1555279892000}}, {'type': 'feature', 'geometry': {'type': 'Point', 'coordinates': [53.347508, -6.252192]}, 'properties': {'number': 16, 'banking': False, 'bonus': False, 'bike_stands': 20, 'available_bike_stands': 16, 'available_bikes': 4, 'status': 'OPEN', 'last_update': 1555279644000}}, {'type': 'feature', 'geometry': {'type': 'Point', 'coordinates': [53.341805, -6.305085]}, 'properties': {'number': 96, 'banking': False, 'bonus': False, 'bike_stands': 30, 'available_bike_stands': 14, 'available_bikes': 16, 'status': 'OPEN', 'last_update': 1555279968000}}, {'type': 'feature', 'geometry': {'type': 'Point', 'coordinates': [53.341645, -6.29719]}, 'properties': {'number': 82, 'banking': False, 'bonus': False, 'bike_stands': 22, 'available_bike_stands': 15, 'available_bikes': 7, 'status': 'OPEN', 'last_update': 1555279607000}}, {'type': 'feature', 'geometry': {'type': 'Point', 'coordinates': [53.342296, -6.287661]}, 'properties': {'number': 76, 'banking': False, 'bonus': False, 'bike_stands': 38, 'available_bike_stands': 31, 'available_bikes': 7, 'status': 'OPEN', 'last_update': 1555279937000}}, {'type': 'feature', 'geometry': {'type': 'Point', 'coordinates': [53.337757, -6.267699]}, 'properties': {'number': 71, 'banking': True, 'bonus': False, 'bike_stands': 40, 'available_bike_stands': 27, 'available_bikes': 13, 'status': 'OPEN', 'last_update': 1555279812000}}, {'type': 'feature', 'geometry': {'type': 'Point', 'coordinates': [53.358115, -6.265601]}, 'properties': {'number': 79, 'banking': False, 'bonus': False, 'bike_stands': 27, 'available_bike_stands': 21, 'available_bikes': 6, 'status': 'OPEN', 'last_update': 1555279974000}}, {'type': 'feature', 'geometry': {'type': 'Point', 'coordinates': [53.342638, -6.238695]}, 'properties': {'number': 69, 'banking': False, 'bonus': False, 'bike_stands': 40, 'available_bike_stands': 31, 'available_bikes': 9, 'status': 'OPEN', 'last_update': 1555279637000}}, {'type': 'feature', 'geometry': {'type': 'Point', 'coordinates': [53.339434, -6.246548]}, 'properties': {'number': 25, 'banking': False, 'bonus': False, 'bike_stands': 30, 'available_bike_stands': 27, 'available_bikes': 3, 'status': 'OPEN', 'last_update': 1555279579000}}, {'type': 'feature', 'geometry': {'type': 'Point', 'coordinates': [53.339334, -6.264699]}, 'properties': {'number': 51, 'banking': False, 'bonus': False, 'bike_stands': 40, 'available_bike_stands': 24, 'available_bikes': 16, 'status': 'OPEN', 'last_update': 1555279921000}}, {'type': 'feature', 'geometry': {'type': 'Point', 'coordinates': [53.337494, -6.26199]}, 'properties': {'number': 37, 'banking': True, 'bonus': False, 'bike_stands': 30, 'available_bike_stands': 27, 'available_bikes': 3, 'status': 'OPEN', 'last_update': 1555280099000}}, {'type': 'feature', 'geometry': {'type': 'Point', 'coordinates': [53.35561, -6.261397]}, 'properties': {'number': 59, 'banking': False, 'bonus': False, 'bike_stands': 20, 'available_bike_stands': 19, 'available_bikes': 1, 'status': 'OPEN', 'last_update': 1555280001000}}, {'type': 'feature', 'geometry': {'type': 'Point', 'coordinates': [53.343897, -6.29706]}, 'properties': {'number': 95, 'banking': True, 'bonus': False, 'bike_stands': 40, 'available_bike_stands': 38, 'available_bikes': 2, 'status': 'OPEN', 'last_update': 1555279609000}}, {'type': 'feature', 'geometry': {'type': 'Point', 'coordinates': [53.346985, -6.297804]}, 'properties': {'number': 94, 'banking': False, 'bonus': False, 'bike_stands': 40, 'available_bike_stands': 9, 'available_bikes': 31, 'status': 'OPEN', 'last_update': 1555280017000}}, {'type': 'feature', 'geometry': {'type': 'Point', 'coordinates': [53.355954, -6.278378]}, 'properties': {'number': 105, 'banking': False, 'bonus': False, 'bike_stands': 36, 'available_bike_stands': 31, 'available_bikes': 5, 'status': 'OPEN', 'last_update': 1555279773000}}, {'type': 'feature', 'geometry': {'type': 'Point', 'coordinates': [53.337824, -6.256035]}, 'properties': {'number': 36, 'banking': True, 'bonus': False, 'bike_stands': 40, 'available_bike_stands': 24, 'available_bikes': 16, 'status': 'OPEN', 'last_update': 1555279646000}}, {'type': 'feature', 'geometry': {'type': 'Point', 'coordinates': [53.346603, -6.296924]}, 'properties': {'number': 93, 'banking': False, 'bonus': False, 'bike_stands': 40, 'available_bike_stands': 5, 'available_bikes': 35, 'status': 'OPEN', 'last_update': 1555279999000}}, {'type': 'feature', 'geometry': {'type': 'Point', 'coordinates': [53.345922, -6.254614]}, 'properties': {'number': 22, 'banking': False, 'bonus': False, 'bike_stands': 20, 'available_bike_stands': 19, 'available_bikes': 1, 'status': 'OPEN', 'last_update': 1555279989000}}, {'type': 'feature', 'geometry': {'type': 'Point', 'coordinates': [53.35023, -6.279696]}, 'properties': {'number': 50, 'banking': False, 'bonus': False, 'bike_stands': 40, 'available_bike_stands': 29, 'available_bikes': 11, 'status': 'OPEN', 'last_update': 1555279626000}}, {'type': 'feature', 'geometry': {'type': 'Point', 'coordinates': [53.356307, -6.273717]}, 'properties': {'number': 110, 'banking': False, 'bonus': False, 'bike_stands': 40, 'available_bike_stands': 28, 'available_bikes': 12, 'status': 'OPEN', 'last_update': 1555279713000}}, {'type': 'feature', 'geometry': {'type': 'Point', 'coordinates': [53.359246, -6.269779]}, 'properties': {'number': 12, 'banking': False, 'bonus': False, 'bike_stands': 20, 'available_bike_stands': 9, 'available_bikes': 11, 'status': 'OPEN', 'last_update': 1555280000000}}, {'type': 'feature', 'geometry': {'type': 'Point', 'coordinates': [53.330362, -6.265163]}, 'properties': {'number': 34, 'banking': False, 'bonus': False, 'bike_stands': 30, 'available_bike_stands': 16, 'available_bikes': 14, 'status': 'OPEN', 'last_update': 1555280004000}}, {'type': 'feature', 'geometry': {'type': 'Point', 'coordinates': [53.359967, -6.264828]}, 'properties': {'number': 78, 'banking': False, 'bonus': False, 'bike_stands': 40, 'available_bike_stands': 21, 'available_bikes': 19, 'status': 'OPEN', 'last_update': 1555280090000}}, {'type': 'feature', 'geometry': {'type': 'Point', 'coordinates': [53.356769, -6.26814]}, 'properties': {'number': 2, 'banking': True, 'bonus': False, 'bike_stands': 20, 'available_bike_stands': 17, 'available_bikes': 3, 'status': 'OPEN', 'last_update': 1555279757000}}, {'type': 'feature', 'geometry': {'type': 'Point', 'coordinates': [53.343456, -6.287409]}, 'properties': {'number': 75, 'banking': True, 'bonus': False, 'bike_stands': 40, 'available_bike_stands': 19, 'available_bikes': 21, 'status': 'OPEN', 'last_update': 1555279597000}}, {'type': 'feature', 'geometry': {'type': 'Point', 'coordinates': [53.356717, -6.256359]}, 'properties': {'number': 111, 'banking': True, 'bonus': False, 'bike_stands': 40, 'available_bike_stands': 30, 'available_bikes': 10, 'status': 'OPEN', 'last_update': 1555280093000}}, {'type': 'feature', 'geometry': {'type': 'Point', 'coordinates': [53.339764, -6.251988]}, 'properties': {'number': 26, 'banking': True, 'bonus': False, 'bike_stands': 20, 'available_bike_stands': 7, 'available_bikes': 13, 'status': 'OPEN', 'last_update': 1555279589000}}, {'type': 'feature', 'geometry': {'type': 'Point', 'coordinates': [53.34744, -6.238523]}, 'properties': {'number': 65, 'banking': True, 'bonus': False, 'bike_stands': 40, 'available_bike_stands': 38, 'available_bikes': 2, 'status': 'OPEN', 'last_update': 1555280077000}}, {'type': 'feature', 'geometry': {'type': 'Point', 'coordinates': [53.355473, -6.264423]}, 'properties': {'number': 15, 'banking': False, 'bonus': False, 'bike_stands': 16, 'available_bike_stands': 14, 'available_bikes': 2, 'status': 'OPEN', 'last_update': 1555279552000}}, {'type': 'feature', 'geometry': {'type': 'Point', 'coordinates': [53.347972, -6.291804]}, 'properties': {'number': 86, 'banking': True, 'bonus': False, 'bike_stands': 38, 'available_bike_stands': 29, 'available_bikes': 9, 'status': 'OPEN', 'last_update': 1555279972000}}, {'type': 'feature', 'geometry': {'type': 'Point', 'coordinates': [53.347692, -6.278214]}, 'properties': {'number': 35, 'banking': False, 'bonus': False, 'bike_stands': 30, 'available_bike_stands': 6, 'available_bikes': 24, 'status': 'OPEN', 'last_update': 1555280007000}}, {'type': 'feature', 'geometry': {'type': 'Point', 'coordinates': [53.344007, -6.266802]}, 'properties': {'number': 10, 'banking': True, 'bonus': False, 'bike_stands': 16, 'available_bike_stands': 4, 'available_bikes': 12, 'status': 'OPEN', 'last_update': 1555280016000}}, {'type': 'feature', 'geometry': {'type': 'Point', 'coordinates': [53.347106, -6.292041]}, 'properties': {'number': 100, 'banking': False, 'bonus': False, 'bike_stands': 25, 'available_bike_stands': 25, 'available_bikes': 0, 'status': 'OPEN', 'last_update': 1555279532000}}, {'type': 'feature', 'geometry': {'type': 'Point', 'coordinates': [53.352149, -6.260533]}, 'properties': {'number': 24, 'banking': False, 'bonus': False, 'bike_stands': 20, 'available_bike_stands': 20, 'available_bikes': 0, 'status': 'OPEN', 'last_update': 1555279527000}}, {'type': 'feature', 'geometry': {'type': 'Point', 'coordinates': [53.345203, -6.247163]}, 'properties': {'number': 64, 'banking': True, 'bonus': False, 'bike_stands': 40, 'available_bike_stands': 34, 'available_bikes': 6, 'status': 'OPEN', 'last_update': 1555279883000}}, {'type': 'feature', 'geometry': {'type': 'Point', 'coordinates': [53.353331, -6.249319]}, 'properties': {'number': 109, 'banking': False, 'bonus': False, 'bike_stands': 29, 'available_bike_stands': 8, 'available_bikes': 21, 'status': 'OPEN', 'last_update': 1555279532000}}, {'type': 'feature', 'geometry': {'type': 'Point', 'coordinates': [53.338776, -6.30395]}, 'properties': {'number': 85, 'banking': True, 'bonus': False, 'bike_stands': 35, 'available_bike_stands': 3, 'available_bikes': 32, 'status': 'OPEN', 'last_update': 1555280069000}}, {'type': 'feature', 'geometry': {'type': 'Point', 'coordinates': [53.359157, -6.281866]}, 'properties': {'number': 107, 'banking': True, 'bonus': False, 'bike_stands': 40, 'available_bike_stands': 24, 'available_bikes': 16, 'status': 'OPEN', 'last_update': 1555279678000}}, {'type': 'feature', 'geometry': {'type': 'Point', 'coordinates': [53.349013, -6.260311]}, 'properties': {'number': 33, 'banking': True, 'bonus': False, 'bike_stands': 23, 'available_bike_stands': 13, 'available_bikes': 10, 'status': 'OPEN', 'last_update': 1555280020000}}, {'type': 'feature', 'geometry': {'type': 'Point', 'coordinates': [53.358437, -6.260641]}, 'properties': {'number': 44, 'banking': False, 'bonus': False, 'bike_stands': 30, 'available_bike_stands': 21, 'available_bikes': 9, 'status': 'OPEN', 'last_update': 1555280087000}}, {'type': 'feature', 'geometry': {'type': 'Point', 'coordinates': [53.335211, -6.2509]}, 'properties': {'number': 89, 'banking': True, 'bonus': False, 'bike_stands': 40, 'available_bike_stands': 29, 'available_bikes': 10, 'status': 'OPEN', 'last_update': 1555280062000}}, {'type': 'feature', 'geometry': {'type': 'Point', 'coordinates': [53.339629, -6.243778]}, 'properties': {'number': 57, 'banking': False, 'bonus': False, 'bike_stands': 23, 'available_bike_stands': 17, 'available_bikes': 6, 'status': 'OPEN', 'last_update': 1555279771000}}, {'type': 'feature', 'geometry': {'type': 'Point', 'coordinates': [53.341359, -6.292951]}, 'properties': {'number': 80, 'banking': False, 'bonus': False, 'bike_stands': 40, 'available_bike_stands': 21, 'available_bikes': 19, 'status': 'OPEN', 'last_update': 1555280009000}}, {'type': 'feature', 'geometry': {'type': 'Point', 'coordinates': [53.332763, -6.257942]}, 'properties': {'number': 41, 'banking': False, 'bonus': False, 'bike_stands': 20, 'available_bike_stands': 14, 'available_bikes': 6, 'status': 'OPEN', 'last_update': 1555280051000}}, {'type': 'feature', 'geometry': {'type': 'Point', 'coordinates': [53.351182, -6.269859]}, 'properties': {'number': 3, 'banking': False, 'bonus': False, 'bike_stands': 20, 'available_bike_stands': 18, 'available_bikes': 2, 'status': 'OPEN', 'last_update': 1555279597000}}, {'type': 'feature', 'geometry': {'type': 'Point', 'coordinates': [53.347082, -6.264192]}, 'properties': {'number': 46, 'banking': True, 'bonus': False, 'bike_stands': 20, 'available_bike_stands': 7, 'available_bikes': 13, 'status': 'OPEN', 'last_update': 1555280088000}}, {'type': 'feature', 'geometry': {'type': 'Point', 'coordinates': [53.3483, -6.266651]}, 'properties': {'number': 40, 'banking': True, 'bonus': False, 'bike_stands': 21, 'available_bike_stands': 17, 'available_bikes': 4, 'status': 'OPEN', 'last_update': 1555279682000}}, {'type': 'feature', 'geometry': {'type': 'Point', 'coordinates': [53.346057, -6.268001]}, 'properties': {'number': 29, 'banking': True, 'bonus': False, 'bike_stands': 29, 'available_bike_stands': 1, 'available_bikes': 28, 'status': 'OPEN', 'last_update': 1555279532000}}, {'type': 'feature', 'geometry': {'type': 'Point', 'coordinates': [53.341655, -6.236198]}, 'properties': {'number': 70, 'banking': True, 'bonus': False, 'bike_stands': 28, 'available_bike_stands': 12, 'available_bikes': 16, 'status': 'OPEN', 'last_update': 1555279903000}}, {'type': 'feature', 'geometry': {'type': 'Point', 'coordinates': [53.354663, -6.278681]}, 'properties': {'number': 103, 'banking': False, 'bonus': False, 'bike_stands': 40, 'available_bike_stands': 40, 'available_bikes': 0, 'status': 'OPEN', 'last_update': 1555279557000}}, {'type': 'feature', 'geometry': {'type': 'Point', 'coordinates': [53.356299, -6.258586]}, 'properties': {'number': 28, 'banking': False, 'bonus': False, 'bike_stands': 30, 'available_bike_stands': 3, 'available_bikes': 27, 'status': 'OPEN', 'last_update': 1555279520000}}, {'type': 'feature', 'geometry': {'type': 'Point', 'coordinates': [53.332383, -6.252717]}, 'properties': {'number': 39, 'banking': True, 'bonus': False, 'bike_stands': 20, 'available_bike_stands': 13, 'available_bikes': 7, 'status': 'OPEN', 'last_update': 1555279648000}}, {'type': 'feature', 'geometry': {'type': 'Point', 'coordinates': [53.340714, -6.308191]}, 'properties': {'number': 83, 'banking': False, 'bonus': False, 'bike_stands': 40, 'available_bike_stands': 14, 'available_bikes': 26, 'status': 'OPEN', 'last_update': 1555279752000}}, {'type': 'feature', 'geometry': {'type': 'Point', 'coordinates': [53.347802, -6.292432]}, 'properties': {'number': 92, 'banking': False, 'bonus': False, 'bike_stands': 40, 'available_bike_stands': 11, 'available_bikes': 29, 'status': 'OPEN', 'last_update': 1555280093000}}, {'type': 'feature', 'geometry': {'type': 'Point', 'coordinates': [53.34218, -6.254485]}, 'properties': {'number': 21, 'banking': False, 'bonus': False, 'bike_stands': 30, 'available_bike_stands': 30, 'available_bikes': 0, 'status': 'OPEN', 'last_update': 1555279873000}}, {'type': 'feature', 'geometry': {'type': 'Point', 'coordinates': [53.3488, -6.281637]}, 'properties': {'number': 88, 'banking': False, 'bonus': False, 'bike_stands': 30, 'available_bike_stands': 19, 'available_bikes': 11, 'status': 'OPEN', 'last_update': 1555279712000}}]}\n"
     ]
    }
   ],
   "source": [
    "async with ClientSession() as session:\n",
    "    async with session.get('http://localhost:5984/station/_find', params=params) as res:\n",
    "        print(await res.json())"
   ]
  },
  {
   "cell_type": "code",
   "execution_count": null,
   "metadata": {},
   "outputs": [],
   "source": []
  }
 ],
 "metadata": {
  "kernelspec": {
   "display_name": "Python 3",
   "language": "python",
   "name": "python3"
  },
  "language_info": {
   "codemirror_mode": {
    "name": "ipython",
    "version": 3
   },
   "file_extension": ".py",
   "mimetype": "text/x-python",
   "name": "python",
   "nbconvert_exporter": "python",
   "pygments_lexer": "ipython3",
   "version": "3.7.3"
  },
  "varInspector": {
   "cols": {
    "lenName": 16,
    "lenType": 16,
    "lenVar": 40
   },
   "kernels_config": {
    "python": {
     "delete_cmd_postfix": "",
     "delete_cmd_prefix": "del ",
     "library": "var_list.py",
     "varRefreshCmd": "print(var_dic_list())"
    },
    "r": {
     "delete_cmd_postfix": ") ",
     "delete_cmd_prefix": "rm(",
     "library": "var_list.r",
     "varRefreshCmd": "cat(var_dic_list()) "
    }
   },
   "position": {
    "height": "387px",
    "left": "961px",
    "right": "20px",
    "top": "47px",
    "width": "454px"
   },
   "types_to_exclude": [
    "module",
    "function",
    "builtin_function_or_method",
    "instance",
    "_Feature"
   ],
   "window_display": false
  }
 },
 "nbformat": 4,
 "nbformat_minor": 2
}
